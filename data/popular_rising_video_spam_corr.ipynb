{
 "cells": [
  {
   "cell_type": "markdown",
   "id": "0f9a87aa",
   "metadata": {},
   "source": [
    "# 인급동 순위와 스팸 댓글과의 관계"
   ]
  },
  {
   "cell_type": "markdown",
   "id": "95373ca0",
   "metadata": {},
   "source": [
    "### Logic\n",
    "\n",
    "#인기 급상승 동영상 (출처: https://support.google.com/youtube/answer/7239739?hl=ko)\n",
    "\n",
    "- 동일한 국가의 모든 시청자에게 동일한 목록으로 표시됨\n",
    "- 15분마다 업데이트\n",
    "- 다양한 시청자의 관심을 끌고, 선정적이지 않고, 흥미와 새로움을 느낄 만한 영상이어야 함\n",
    "- 조회수, 조회수 증가 속도, 조회수가 발생하는 소스, 동영상 업로드 기간, 같은 채널의 다른 영상과 비교한 결과\n",
    "\n",
    "#가설\n",
    "\n",
    "- 인기 급상승 동영상일수록 스팸 댓글이 많이 달릴 것이다\n",
    "- 최근 영상일수록 스팸 댓글이 잘 발견되며, 수일이 경과하면 삭제될 것이다\n",
    "\n",
    "#수집 데이터 (수집 날짜는 하나로 고정)\n",
    "\n",
    "- 인기 급상승 동영상 순위, 영상 제목\n",
    "- 각 영상 별 업로드 날짜 (→ 수집 날짜와 비교하기)\n",
    "- 영상 속 댓글 남긴 유저 닉네임"
   ]
  },
  {
   "cell_type": "code",
   "execution_count": 28,
   "id": "4cec421e",
   "metadata": {},
   "outputs": [],
   "source": [
    "import pandas as pd\n",
    "import numpy as np\n",
    "import matplotlib.pyplot as plt"
   ]
  },
  {
   "cell_type": "code",
   "execution_count": 18,
   "id": "c2a0af09",
   "metadata": {},
   "outputs": [],
   "source": [
    "info = pd.read_excel(\"trending_info.xlsx\")\n",
    "comments = pd.read_excel(\"trending_comments.xlsx\")"
   ]
  },
  {
   "cell_type": "code",
   "execution_count": 19,
   "id": "46c633e1",
   "metadata": {},
   "outputs": [
    {
     "data": {
      "text/html": [
       "<div>\n",
       "<style scoped>\n",
       "    .dataframe tbody tr th:only-of-type {\n",
       "        vertical-align: middle;\n",
       "    }\n",
       "\n",
       "    .dataframe tbody tr th {\n",
       "        vertical-align: top;\n",
       "    }\n",
       "\n",
       "    .dataframe thead th {\n",
       "        text-align: right;\n",
       "    }\n",
       "</style>\n",
       "<table border=\"1\" class=\"dataframe\">\n",
       "  <thead>\n",
       "    <tr style=\"text-align: right;\">\n",
       "      <th></th>\n",
       "      <th>rank</th>\n",
       "      <th>video_id</th>\n",
       "      <th>title</th>\n",
       "      <th>published_at</th>\n",
       "      <th>channel_title</th>\n",
       "      <th>view_count</th>\n",
       "      <th>like_count</th>\n",
       "    </tr>\n",
       "  </thead>\n",
       "  <tbody>\n",
       "    <tr>\n",
       "      <th>0</th>\n",
       "      <td>1</td>\n",
       "      <td>Ox29z5Nf1Uk</td>\n",
       "      <td>[#2024MAMA] G-DRAGON - 무제(Untitled, 2014)+POWE...</td>\n",
       "      <td>2024-11-23T08:54:37Z</td>\n",
       "      <td>Mnet K-POP</td>\n",
       "      <td>7664616</td>\n",
       "      <td>441721.0</td>\n",
       "    </tr>\n",
       "    <tr>\n",
       "      <th>1</th>\n",
       "      <td>2</td>\n",
       "      <td>dgGqD28J6aQ</td>\n",
       "      <td>[#2024MAMA] ROSÉ (로제), Bruno Mars - APT. | Mne...</td>\n",
       "      <td>2024-11-22T13:02:02Z</td>\n",
       "      <td>Mnet K-POP</td>\n",
       "      <td>8489651</td>\n",
       "      <td>447652.0</td>\n",
       "    </tr>\n",
       "    <tr>\n",
       "      <th>2</th>\n",
       "      <td>3</td>\n",
       "      <td>FrzrNV20KbQ</td>\n",
       "      <td>[아형✪하이라이트] ✨내 아내는 나 말고 다른 남자를 몰라✨ 신랑 민경훈이 신부에게...</td>\n",
       "      <td>2024-11-23T14:29:23Z</td>\n",
       "      <td>아는형님 Knowingbros</td>\n",
       "      <td>999241</td>\n",
       "      <td>14987.0</td>\n",
       "    </tr>\n",
       "    <tr>\n",
       "      <th>3</th>\n",
       "      <td>4</td>\n",
       "      <td>VtX6jD5BDPY</td>\n",
       "      <td>총합 117개 마인크래프트 모든 발전과제 달성하기</td>\n",
       "      <td>2024-11-23T03:36:20Z</td>\n",
       "      <td>코마</td>\n",
       "      <td>386452</td>\n",
       "      <td>11899.0</td>\n",
       "    </tr>\n",
       "    <tr>\n",
       "      <th>4</th>\n",
       "      <td>5</td>\n",
       "      <td>pZ1NdE69VTs</td>\n",
       "      <td>ROSÉ - number one girl (official music video)</td>\n",
       "      <td>2024-11-22T05:00:06Z</td>\n",
       "      <td>ROSÉ</td>\n",
       "      <td>20561254</td>\n",
       "      <td>1416050.0</td>\n",
       "    </tr>\n",
       "  </tbody>\n",
       "</table>\n",
       "</div>"
      ],
      "text/plain": [
       "   rank     video_id                                              title  \\\n",
       "0     1  Ox29z5Nf1Uk  [#2024MAMA] G-DRAGON - 무제(Untitled, 2014)+POWE...   \n",
       "1     2  dgGqD28J6aQ  [#2024MAMA] ROSÉ (로제), Bruno Mars - APT. | Mne...   \n",
       "2     3  FrzrNV20KbQ  [아형✪하이라이트] ✨내 아내는 나 말고 다른 남자를 몰라✨ 신랑 민경훈이 신부에게...   \n",
       "3     4  VtX6jD5BDPY                        총합 117개 마인크래프트 모든 발전과제 달성하기   \n",
       "4     5  pZ1NdE69VTs     ROSÉ - number one girl (official music video)   \n",
       "\n",
       "           published_at     channel_title  view_count  like_count  \n",
       "0  2024-11-23T08:54:37Z        Mnet K-POP     7664616    441721.0  \n",
       "1  2024-11-22T13:02:02Z        Mnet K-POP     8489651    447652.0  \n",
       "2  2024-11-23T14:29:23Z  아는형님 Knowingbros      999241     14987.0  \n",
       "3  2024-11-23T03:36:20Z                코마      386452     11899.0  \n",
       "4  2024-11-22T05:00:06Z              ROSÉ    20561254   1416050.0  "
      ]
     },
     "execution_count": 19,
     "metadata": {},
     "output_type": "execute_result"
    }
   ],
   "source": [
    "info.head()"
   ]
  },
  {
   "cell_type": "code",
   "execution_count": 20,
   "id": "e729466a",
   "metadata": {},
   "outputs": [
    {
     "data": {
      "text/html": [
       "<div>\n",
       "<style scoped>\n",
       "    .dataframe tbody tr th:only-of-type {\n",
       "        vertical-align: middle;\n",
       "    }\n",
       "\n",
       "    .dataframe tbody tr th {\n",
       "        vertical-align: top;\n",
       "    }\n",
       "\n",
       "    .dataframe thead th {\n",
       "        text-align: right;\n",
       "    }\n",
       "</style>\n",
       "<table border=\"1\" class=\"dataframe\">\n",
       "  <thead>\n",
       "    <tr style=\"text-align: right;\">\n",
       "      <th></th>\n",
       "      <th>video_id</th>\n",
       "      <th>author_name</th>\n",
       "      <th>comment</th>\n",
       "    </tr>\n",
       "  </thead>\n",
       "  <tbody>\n",
       "    <tr>\n",
       "      <th>0</th>\n",
       "      <td>Ox29z5Nf1Uk</td>\n",
       "      <td>@미미미누</td>\n",
       "      <td>“The Living Legend”</td>\n",
       "    </tr>\n",
       "    <tr>\n",
       "      <th>1</th>\n",
       "      <td>Ox29z5Nf1Uk</td>\n",
       "      <td>@yariitorrez6163</td>\n",
       "      <td>For me no kpop artist can match the energy, au...</td>\n",
       "    </tr>\n",
       "    <tr>\n",
       "      <th>2</th>\n",
       "      <td>Ox29z5Nf1Uk</td>\n",
       "      <td>@prod.maddie</td>\n",
       "      <td>no new kpop fans will understand the feeling o...</td>\n",
       "    </tr>\n",
       "    <tr>\n",
       "      <th>3</th>\n",
       "      <td>Ox29z5Nf1Uk</td>\n",
       "      <td>@Jinnnnnn9586</td>\n",
       "      <td>지금 기차안인데 내 대각선 자리, 대각선 앞자리까지 다 이 영상 보고있다 ㅠㅠㅠ</td>\n",
       "    </tr>\n",
       "    <tr>\n",
       "      <th>4</th>\n",
       "      <td>Ox29z5Nf1Uk</td>\n",
       "      <td>@divinechild111</td>\n",
       "      <td>Did you all notice how the cheers went so loud...</td>\n",
       "    </tr>\n",
       "  </tbody>\n",
       "</table>\n",
       "</div>"
      ],
      "text/plain": [
       "      video_id       author_name  \\\n",
       "0  Ox29z5Nf1Uk             @미미미누   \n",
       "1  Ox29z5Nf1Uk  @yariitorrez6163   \n",
       "2  Ox29z5Nf1Uk      @prod.maddie   \n",
       "3  Ox29z5Nf1Uk     @Jinnnnnn9586   \n",
       "4  Ox29z5Nf1Uk   @divinechild111   \n",
       "\n",
       "                                             comment  \n",
       "0                                “The Living Legend”  \n",
       "1  For me no kpop artist can match the energy, au...  \n",
       "2  no new kpop fans will understand the feeling o...  \n",
       "3       지금 기차안인데 내 대각선 자리, 대각선 앞자리까지 다 이 영상 보고있다 ㅠㅠㅠ  \n",
       "4  Did you all notice how the cheers went so loud...  "
      ]
     },
     "execution_count": 20,
     "metadata": {},
     "output_type": "execute_result"
    }
   ],
   "source": [
    "comments.head()"
   ]
  },
  {
   "cell_type": "markdown",
   "id": "c49898b6",
   "metadata": {},
   "source": [
    "가설 1. 인급동 순위가 높을 수록 스팸 댓글이 많이 달릴 것이다\n",
    " - 스팸 댓글 판단 기준: 유저 닉네임 (I9, 아이돌 등의 키워드 사용)\n",
    " - 가설을 확인하기 위한 기준이므로, 추후에 변경 필요"
   ]
  },
  {
   "cell_type": "code",
   "execution_count": 21,
   "id": "4d6f8cc3",
   "metadata": {},
   "outputs": [
    {
     "name": "stdout",
     "output_type": "stream",
     "text": [
      "29036\n"
     ]
    }
   ],
   "source": [
    "hypo1 = pd.merge(\n",
    "    info[['rank', 'video_id']], comments[['video_id', 'author_name']],\n",
    "    on='video_id', how='outer')\n",
    "print(len(hypo1))"
   ]
  },
  {
   "cell_type": "code",
   "execution_count": 22,
   "id": "738000de",
   "metadata": {},
   "outputs": [
    {
     "data": {
      "text/html": [
       "<div>\n",
       "<style scoped>\n",
       "    .dataframe tbody tr th:only-of-type {\n",
       "        vertical-align: middle;\n",
       "    }\n",
       "\n",
       "    .dataframe tbody tr th {\n",
       "        vertical-align: top;\n",
       "    }\n",
       "\n",
       "    .dataframe thead th {\n",
       "        text-align: right;\n",
       "    }\n",
       "</style>\n",
       "<table border=\"1\" class=\"dataframe\">\n",
       "  <thead>\n",
       "    <tr style=\"text-align: right;\">\n",
       "      <th></th>\n",
       "      <th>rank</th>\n",
       "      <th>video_id</th>\n",
       "      <th>author_name</th>\n",
       "    </tr>\n",
       "  </thead>\n",
       "  <tbody>\n",
       "    <tr>\n",
       "      <th>0</th>\n",
       "      <td>1</td>\n",
       "      <td>Ox29z5Nf1Uk</td>\n",
       "      <td>@미미미누</td>\n",
       "    </tr>\n",
       "    <tr>\n",
       "      <th>1</th>\n",
       "      <td>1</td>\n",
       "      <td>Ox29z5Nf1Uk</td>\n",
       "      <td>@yariitorrez6163</td>\n",
       "    </tr>\n",
       "    <tr>\n",
       "      <th>2</th>\n",
       "      <td>1</td>\n",
       "      <td>Ox29z5Nf1Uk</td>\n",
       "      <td>@prod.maddie</td>\n",
       "    </tr>\n",
       "    <tr>\n",
       "      <th>3</th>\n",
       "      <td>1</td>\n",
       "      <td>Ox29z5Nf1Uk</td>\n",
       "      <td>@Jinnnnnn9586</td>\n",
       "    </tr>\n",
       "    <tr>\n",
       "      <th>4</th>\n",
       "      <td>1</td>\n",
       "      <td>Ox29z5Nf1Uk</td>\n",
       "      <td>@divinechild111</td>\n",
       "    </tr>\n",
       "  </tbody>\n",
       "</table>\n",
       "</div>"
      ],
      "text/plain": [
       "   rank     video_id       author_name\n",
       "0     1  Ox29z5Nf1Uk             @미미미누\n",
       "1     1  Ox29z5Nf1Uk  @yariitorrez6163\n",
       "2     1  Ox29z5Nf1Uk      @prod.maddie\n",
       "3     1  Ox29z5Nf1Uk     @Jinnnnnn9586\n",
       "4     1  Ox29z5Nf1Uk   @divinechild111"
      ]
     },
     "execution_count": 22,
     "metadata": {},
     "output_type": "execute_result"
    }
   ],
   "source": [
    "hypo1.head()"
   ]
  },
  {
   "cell_type": "code",
   "execution_count": 24,
   "id": "704e6e39",
   "metadata": {},
   "outputs": [
    {
     "name": "stdout",
     "output_type": "stream",
     "text": [
      "55\n"
     ]
    }
   ],
   "source": [
    "spam = [\"I9\", \"아이돌\"]\n",
    "\n",
    "filtered_hypo1 = hypo1[hypo1['author_name'].str.contains('|'.join(spam), na=False)]\n",
    "\n",
    "print(len(filtered_hypo1))"
   ]
  },
  {
   "cell_type": "code",
   "execution_count": 26,
   "id": "f10f0727",
   "metadata": {},
   "outputs": [
    {
     "data": {
      "text/html": [
       "<div>\n",
       "<style scoped>\n",
       "    .dataframe tbody tr th:only-of-type {\n",
       "        vertical-align: middle;\n",
       "    }\n",
       "\n",
       "    .dataframe tbody tr th {\n",
       "        vertical-align: top;\n",
       "    }\n",
       "\n",
       "    .dataframe thead th {\n",
       "        text-align: right;\n",
       "    }\n",
       "</style>\n",
       "<table border=\"1\" class=\"dataframe\">\n",
       "  <thead>\n",
       "    <tr style=\"text-align: right;\">\n",
       "      <th></th>\n",
       "      <th>rank</th>\n",
       "      <th>video_id</th>\n",
       "      <th>author_name</th>\n",
       "    </tr>\n",
       "  </thead>\n",
       "  <tbody>\n",
       "    <tr>\n",
       "      <th>294</th>\n",
       "      <td>2</td>\n",
       "      <td>dgGqD28J6aQ</td>\n",
       "      <td>@눌러-아이돌A양사건101</td>\n",
       "    </tr>\n",
       "    <tr>\n",
       "      <th>314</th>\n",
       "      <td>3</td>\n",
       "      <td>FrzrNV20KbQ</td>\n",
       "      <td>@ON팬-VIP골드-I9금채널2</td>\n",
       "    </tr>\n",
       "    <tr>\n",
       "      <th>901</th>\n",
       "      <td>7</td>\n",
       "      <td>758qMZHRFxk</td>\n",
       "      <td>@아이돌A양보기-k3y</td>\n",
       "    </tr>\n",
       "    <tr>\n",
       "      <th>908</th>\n",
       "      <td>7</td>\n",
       "      <td>758qMZHRFxk</td>\n",
       "      <td>@아이돌A양보기-b3h</td>\n",
       "    </tr>\n",
       "    <tr>\n",
       "      <th>913</th>\n",
       "      <td>7</td>\n",
       "      <td>758qMZHRFxk</td>\n",
       "      <td>@I9금-보관용-계정-B97</td>\n",
       "    </tr>\n",
       "  </tbody>\n",
       "</table>\n",
       "</div>"
      ],
      "text/plain": [
       "     rank     video_id        author_name\n",
       "294     2  dgGqD28J6aQ     @눌러-아이돌A양사건101\n",
       "314     3  FrzrNV20KbQ  @ON팬-VIP골드-I9금채널2\n",
       "901     7  758qMZHRFxk       @아이돌A양보기-k3y\n",
       "908     7  758qMZHRFxk       @아이돌A양보기-b3h\n",
       "913     7  758qMZHRFxk    @I9금-보관용-계정-B97"
      ]
     },
     "execution_count": 26,
     "metadata": {},
     "output_type": "execute_result"
    }
   ],
   "source": [
    "filtered_hypo1.head()"
   ]
  },
  {
   "cell_type": "code",
   "execution_count": 32,
   "id": "4e28146b",
   "metadata": {},
   "outputs": [
    {
     "data": {
      "image/png": "[encoded data removed]",
      "text/plain": [
       "<Figure size 2000x1000 with 1 Axes>"
      ]
     },
     "metadata": {},
     "output_type": "display_data"
    }
   ],
   "source": [
    "plt.figure(figsize=(20, 10))\n",
    "plt.hist(filtered_hypo1['rank'], bins=range(1, filtered_hypo1['rank'].max() + 2), edgecolor='black', alpha=0.7)\n",
    "plt.title('Histogram of Ranks for Spam Authors')\n",
    "plt.xlabel('Rank')\n",
    "plt.ylabel('Frequency')\n",
    "plt.xticks(range(1, filtered_hypo1['rank'].max() + 1))\n",
    "plt.show()"
   ]
  },
  {
   "cell_type": "code",
   "execution_count": 33,
   "id": "b49dcb37",
   "metadata": {},
   "outputs": [
    {
     "name": "stdout",
     "output_type": "stream",
     "text": [
      "Correlation between rank and spam count: -0.059206064661581265\n"
     ]
    }
   ],
   "source": [
    "spam_per_rank = filtered_hypo1.groupby('rank').size().reset_index(name='spam_count')\n",
    "correlation = spam_per_rank['rank'].corr(spam_per_rank['spam_count'])\n",
    "\n",
    "# 상관관계 출력\n",
    "print(f\"Correlation between rank and spam count: {correlation}\")"
   ]
  },
  {
   "cell_type": "markdown",
   "id": "657b7b54",
   "metadata": {},
   "source": [
    "유의미한 상관관계 없음 "
   ]
  },
  {
   "cell_type": "code",
   "execution_count": 35,
   "id": "190a604c",
   "metadata": {},
   "outputs": [
    {
     "name": "stdout",
     "output_type": "stream",
     "text": [
      "P-value: PearsonRResult(statistic=-0.05920606466158123, pvalue=0.755969157241787)\n"
     ]
    }
   ],
   "source": [
    "from scipy.stats import pearsonr\n",
    "\n",
    "p_value = pearsonr(spam_per_rank['rank'], spam_per_rank['spam_count'])\n",
    "print(f\"P-value: {p_value}\")"
   ]
  },
  {
   "cell_type": "markdown",
   "id": "c4c5dc6c",
   "metadata": {},
   "source": [
    "가설 2. 최근 영상일수록 스팸 댓글이 많을 것이다. "
   ]
  },
  {
   "cell_type": "code",
   "execution_count": 38,
   "id": "ebaedee8",
   "metadata": {},
   "outputs": [],
   "source": [
    "from datetime import datetime\n",
    "\n",
    "hypo2 = pd.merge(info[['rank', 'video_id', 'published_at']], comments[['video_id', 'author_name']], on='video_id', how='outer')\n",
    "\n",
    "crawl_time = datetime.strptime('2024-11-24 17:40:00', '%Y-%m-%d %H:%M:%S')\n",
    "\n",
    "hypo2['published_at'] = pd.to_datetime(hypo2['published_at'], format='%Y-%m-%dT%H:%M:%SZ')\n",
    "\n",
    "hypo2['time_since_published'] = (crawl_time - hypo2['published_at']).dt.total_seconds() / 3600  # 시간 단위로 변환"
   ]
  },
  {
   "cell_type": "code",
   "execution_count": 39,
   "id": "0226ec7a",
   "metadata": {},
   "outputs": [
    {
     "data": {
      "text/html": [
       "<div>\n",
       "<style scoped>\n",
       "    .dataframe tbody tr th:only-of-type {\n",
       "        vertical-align: middle;\n",
       "    }\n",
       "\n",
       "    .dataframe tbody tr th {\n",
       "        vertical-align: top;\n",
       "    }\n",
       "\n",
       "    .dataframe thead th {\n",
       "        text-align: right;\n",
       "    }\n",
       "</style>\n",
       "<table border=\"1\" class=\"dataframe\">\n",
       "  <thead>\n",
       "    <tr style=\"text-align: right;\">\n",
       "      <th></th>\n",
       "      <th>rank</th>\n",
       "      <th>video_id</th>\n",
       "      <th>published_at</th>\n",
       "      <th>author_name</th>\n",
       "      <th>time_since_published</th>\n",
       "    </tr>\n",
       "  </thead>\n",
       "  <tbody>\n",
       "    <tr>\n",
       "      <th>0</th>\n",
       "      <td>1</td>\n",
       "      <td>Ox29z5Nf1Uk</td>\n",
       "      <td>2024-11-23 08:54:37</td>\n",
       "      <td>@미미미누</td>\n",
       "      <td>32.756389</td>\n",
       "    </tr>\n",
       "    <tr>\n",
       "      <th>1</th>\n",
       "      <td>1</td>\n",
       "      <td>Ox29z5Nf1Uk</td>\n",
       "      <td>2024-11-23 08:54:37</td>\n",
       "      <td>@yariitorrez6163</td>\n",
       "      <td>32.756389</td>\n",
       "    </tr>\n",
       "    <tr>\n",
       "      <th>2</th>\n",
       "      <td>1</td>\n",
       "      <td>Ox29z5Nf1Uk</td>\n",
       "      <td>2024-11-23 08:54:37</td>\n",
       "      <td>@prod.maddie</td>\n",
       "      <td>32.756389</td>\n",
       "    </tr>\n",
       "    <tr>\n",
       "      <th>3</th>\n",
       "      <td>1</td>\n",
       "      <td>Ox29z5Nf1Uk</td>\n",
       "      <td>2024-11-23 08:54:37</td>\n",
       "      <td>@Jinnnnnn9586</td>\n",
       "      <td>32.756389</td>\n",
       "    </tr>\n",
       "    <tr>\n",
       "      <th>4</th>\n",
       "      <td>1</td>\n",
       "      <td>Ox29z5Nf1Uk</td>\n",
       "      <td>2024-11-23 08:54:37</td>\n",
       "      <td>@divinechild111</td>\n",
       "      <td>32.756389</td>\n",
       "    </tr>\n",
       "  </tbody>\n",
       "</table>\n",
       "</div>"
      ],
      "text/plain": [
       "   rank     video_id        published_at       author_name  \\\n",
       "0     1  Ox29z5Nf1Uk 2024-11-23 08:54:37             @미미미누   \n",
       "1     1  Ox29z5Nf1Uk 2024-11-23 08:54:37  @yariitorrez6163   \n",
       "2     1  Ox29z5Nf1Uk 2024-11-23 08:54:37      @prod.maddie   \n",
       "3     1  Ox29z5Nf1Uk 2024-11-23 08:54:37     @Jinnnnnn9586   \n",
       "4     1  Ox29z5Nf1Uk 2024-11-23 08:54:37   @divinechild111   \n",
       "\n",
       "   time_since_published  \n",
       "0             32.756389  \n",
       "1             32.756389  \n",
       "2             32.756389  \n",
       "3             32.756389  \n",
       "4             32.756389  "
      ]
     },
     "execution_count": 39,
     "metadata": {},
     "output_type": "execute_result"
    }
   ],
   "source": [
    "hypo2.head()"
   ]
  },
  {
   "cell_type": "code",
   "execution_count": 40,
   "id": "c7a7fa52",
   "metadata": {},
   "outputs": [
    {
     "name": "stdout",
     "output_type": "stream",
     "text": [
      "55\n"
     ]
    }
   ],
   "source": [
    "filtered_hypo2 = hypo2[hypo2['author_name'].str.contains('|'.join(spam), na=False)]\n",
    "\n",
    "print(len(filtered_hypo2))"
   ]
  },
  {
   "cell_type": "code",
   "execution_count": 41,
   "id": "fe423df6",
   "metadata": {},
   "outputs": [
    {
     "data": {
      "text/html": [
       "<div>\n",
       "<style scoped>\n",
       "    .dataframe tbody tr th:only-of-type {\n",
       "        vertical-align: middle;\n",
       "    }\n",
       "\n",
       "    .dataframe tbody tr th {\n",
       "        vertical-align: top;\n",
       "    }\n",
       "\n",
       "    .dataframe thead th {\n",
       "        text-align: right;\n",
       "    }\n",
       "</style>\n",
       "<table border=\"1\" class=\"dataframe\">\n",
       "  <thead>\n",
       "    <tr style=\"text-align: right;\">\n",
       "      <th></th>\n",
       "      <th>rank</th>\n",
       "      <th>video_id</th>\n",
       "      <th>published_at</th>\n",
       "      <th>author_name</th>\n",
       "      <th>time_since_published</th>\n",
       "    </tr>\n",
       "  </thead>\n",
       "  <tbody>\n",
       "    <tr>\n",
       "      <th>294</th>\n",
       "      <td>2</td>\n",
       "      <td>dgGqD28J6aQ</td>\n",
       "      <td>2024-11-22 13:02:02</td>\n",
       "      <td>@눌러-아이돌A양사건101</td>\n",
       "      <td>52.632778</td>\n",
       "    </tr>\n",
       "    <tr>\n",
       "      <th>314</th>\n",
       "      <td>3</td>\n",
       "      <td>FrzrNV20KbQ</td>\n",
       "      <td>2024-11-23 14:29:23</td>\n",
       "      <td>@ON팬-VIP골드-I9금채널2</td>\n",
       "      <td>27.176944</td>\n",
       "    </tr>\n",
       "    <tr>\n",
       "      <th>901</th>\n",
       "      <td>7</td>\n",
       "      <td>758qMZHRFxk</td>\n",
       "      <td>2024-11-23 20:57:29</td>\n",
       "      <td>@아이돌A양보기-k3y</td>\n",
       "      <td>20.708611</td>\n",
       "    </tr>\n",
       "    <tr>\n",
       "      <th>908</th>\n",
       "      <td>7</td>\n",
       "      <td>758qMZHRFxk</td>\n",
       "      <td>2024-11-23 20:57:29</td>\n",
       "      <td>@아이돌A양보기-b3h</td>\n",
       "      <td>20.708611</td>\n",
       "    </tr>\n",
       "    <tr>\n",
       "      <th>913</th>\n",
       "      <td>7</td>\n",
       "      <td>758qMZHRFxk</td>\n",
       "      <td>2024-11-23 20:57:29</td>\n",
       "      <td>@I9금-보관용-계정-B97</td>\n",
       "      <td>20.708611</td>\n",
       "    </tr>\n",
       "  </tbody>\n",
       "</table>\n",
       "</div>"
      ],
      "text/plain": [
       "     rank     video_id        published_at        author_name  \\\n",
       "294     2  dgGqD28J6aQ 2024-11-22 13:02:02     @눌러-아이돌A양사건101   \n",
       "314     3  FrzrNV20KbQ 2024-11-23 14:29:23  @ON팬-VIP골드-I9금채널2   \n",
       "901     7  758qMZHRFxk 2024-11-23 20:57:29       @아이돌A양보기-k3y   \n",
       "908     7  758qMZHRFxk 2024-11-23 20:57:29       @아이돌A양보기-b3h   \n",
       "913     7  758qMZHRFxk 2024-11-23 20:57:29    @I9금-보관용-계정-B97   \n",
       "\n",
       "     time_since_published  \n",
       "294             52.632778  \n",
       "314             27.176944  \n",
       "901             20.708611  \n",
       "908             20.708611  \n",
       "913             20.708611  "
      ]
     },
     "execution_count": 41,
     "metadata": {},
     "output_type": "execute_result"
    }
   ],
   "source": [
    "filtered_hypo2.head()"
   ]
  },
  {
   "cell_type": "code",
   "execution_count": 44,
   "id": "ed3b687c",
   "metadata": {},
   "outputs": [
    {
     "name": "stdout",
     "output_type": "stream",
     "text": [
      "Pearson Correlation: 0.07674152918834265\n",
      "P-value: 0.686900062588453\n"
     ]
    }
   ],
   "source": [
    "import seaborn as sns\n",
    "import scipy.stats as stats\n",
    "\n",
    "grouped = filtered_hypo2.groupby('time_since_published').size().reset_index(name='count')\n",
    "\n",
    "correlation, p_value = stats.pearsonr(grouped['time_since_published'], grouped['count'])\n",
    "\n",
    "print(f\"Pearson Correlation: {correlation}\")\n",
    "print(f\"P-value: {p_value}\")"
   ]
  },
  {
   "cell_type": "markdown",
   "id": "dc34fedd",
   "metadata": {},
   "source": [
    "무의미..."
   ]
  },
  {
   "cell_type": "code",
   "execution_count": 46,
   "id": "21dfd9d1",
   "metadata": {},
   "outputs": [
    {
     "data": {
      "image/png": "[encoded data removed]",
      "text/plain": [
       "<Figure size 1000x600 with 1 Axes>"
      ]
     },
     "metadata": {},
     "output_type": "display_data"
    }
   ],
   "source": [
    "plt.figure(figsize=(10, 6))\n",
    "sns.scatterplot(x=grouped['time_since_published'], y=grouped['count'])\n",
    "plt.title('Scatter Plot of Time Since Published vs. Spam Count')\n",
    "plt.xlabel('Time Since Published (seconds)')\n",
    "plt.ylabel('Row Count')\n",
    "plt.grid(True)\n",
    "plt.show()"
   ]
  },
  {
   "cell_type": "code",
   "execution_count": null,
   "id": "8abcdb7b",
   "metadata": {},
   "outputs": [],
   "source": []
  }
 ],
 "metadata": {
  "kernelspec": {
   "display_name": "Python 3 (ipykernel)",
   "language": "python",
   "name": "python3"
  },
  "language_info": {
   "codemirror_mode": {
    "name": "ipython",
    "version": 3
   },
   "file_extension": ".py",
   "mimetype": "text/x-python",
   "name": "python",
   "nbconvert_exporter": "python",
   "pygments_lexer": "ipython3",
   "version": "3.9.13"
  }
 },
 "nbformat": 4,
 "nbformat_minor": 5
}
